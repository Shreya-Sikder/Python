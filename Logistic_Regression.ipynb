{
  "nbformat": 4,
  "nbformat_minor": 0,
  "metadata": {
    "colab": {
      "provenance": [],
      "authorship_tag": "ABX9TyPxzuUazKq/+RsCIa1jNYge",
      "include_colab_link": true
    },
    "kernelspec": {
      "name": "python3",
      "display_name": "Python 3"
    },
    "language_info": {
      "name": "python"
    }
  },
  "cells": [
    {
      "cell_type": "markdown",
      "metadata": {
        "id": "view-in-github",
        "colab_type": "text"
      },
      "source": [
        "<a href=\"https://colab.research.google.com/github/Shreya-Sikder/Python/blob/main/Logistic_Regression.ipynb\" target=\"_parent\"><img src=\"https://colab.research.google.com/assets/colab-badge.svg\" alt=\"Open In Colab\"/></a>"
      ]
    },
    {
      "cell_type": "code",
      "execution_count": 13,
      "metadata": {
        "id": "FH_asI8ISzh_"
      },
      "outputs": [],
      "source": [
        "import numpy as np\n",
        "import matplotlib.pyplot as plt"
      ]
    },
    {
      "cell_type": "markdown",
      "source": [
        "Logistic Regression"
      ],
      "metadata": {
        "id": "c4mV2H16V2P4"
      }
    },
    {
      "cell_type": "code",
      "source": [
        "def sigmoid(x):\n",
        "  return 1/(1+np.exp(-x))\n",
        "class LogisticRegression:\n",
        "  def __init__(self, learning_rate, epochs=1000): #constructor\n",
        "    self.learning_rate = learning_rate\n",
        "    self.epochs = epochs\n",
        "    self.weights = None\n",
        "    self.bias = None\n",
        "\n",
        "  def fit(self,X,Y):\n",
        "    n_samples, n_features = X.shape\n",
        "    self.weights = np.zeros(n_features)\n",
        "    self.bias = 0\n",
        "\n",
        "#gradient descent\n",
        "    for _ in range(self.epochs):\n",
        "     linear_model = np.dot(X, self.weights) + self.bias\n",
        "     y_predicted = sigmoid(linear_model)\n",
        "#computing out gradients\n",
        "     dw = (1 / n_samples) * np.dot(X.T, (y_predicted - Y))\n",
        "     db = (1 / n_samples) * np.sum(y_predicted - Y)\n",
        "\n",
        "    #updates our weights and bias\n",
        "     self.weights -= self.learning_rate * dw\n",
        "     self.bias -= self.learning_rate * db\n",
        "  # predict method\n",
        "  def predict(self,X):\n",
        "     linear_model = np.dot(X, self.weights) + self.bias\n",
        "     y_predicted = sigmoid(linear_model)\n",
        "\n",
        "     y_predicted_cls = [1 if i > 0.5 else 0 for i in y_predicted]\n",
        "     return np.array(y_predicted_cls)"
      ],
      "metadata": {
        "id": "iTrtzNK3VIAg"
      },
      "execution_count": 37,
      "outputs": []
    },
    {
      "cell_type": "code",
      "source": [
        "X=np.array([ #height(cm), weight(kg)\n",
        "             [20,3],\n",
        "             [22,4],\n",
        "             [25,5],\n",
        "             [56,18],\n",
        "             [45,15],\n",
        "             [50,20]\n",
        "           ])\n",
        "Y=np.array([0,0,0,1,1,1])"
      ],
      "metadata": {
        "id": "dGsYD_I1TCCZ"
      },
      "execution_count": 38,
      "outputs": []
    },
    {
      "cell_type": "code",
      "source": [
        "X.shape #(6,2) 6=sample, 2=feature"
      ],
      "metadata": {
        "colab": {
          "base_uri": "https://localhost:8080/"
        },
        "id": "xXDmVQbGWJVv",
        "outputId": "4fed439c-fc9d-4853-ef64-b203726b99b4"
      },
      "execution_count": 16,
      "outputs": [
        {
          "output_type": "execute_result",
          "data": {
            "text/plain": [
              "(6, 2)"
            ]
          },
          "metadata": {},
          "execution_count": 16
        }
      ]
    },
    {
      "cell_type": "code",
      "source": [
        "plt.scatter(X[:,0][Y==0],X[:,1][Y==0],color='blue',label=\"cats\")\n",
        "plt.scatter(X[:,0][Y==1],X[:,1][Y==1],color='red',label=\"dogs\")"
      ],
      "metadata": {
        "colab": {
          "base_uri": "https://localhost:8080/",
          "height": 447
        },
        "id": "jl2lXs8_Tvk-",
        "outputId": "589cecd5-66ee-4061-99b3-0c3633a3b1fd"
      },
      "execution_count": 39,
      "outputs": [
        {
          "output_type": "execute_result",
          "data": {
            "text/plain": [
              "<matplotlib.collections.PathCollection at 0x7fcb950a56a0>"
            ]
          },
          "metadata": {},
          "execution_count": 39
        },
        {
          "output_type": "display_data",
          "data": {
            "text/plain": [
              "<Figure size 640x480 with 1 Axes>"
            ],
            "image/png": "[encoded data removed]"
          },
          "metadata": {}
        }
      ]
    },
    {
      "cell_type": "code",
      "source": [
        "model=LogisticRegression(learning_rate=0.05, epochs=1000)\n",
        "model.fit(X,Y)"
      ],
      "metadata": {
        "id": "Ig897PtxUqSJ"
      },
      "execution_count": 40,
      "outputs": []
    },
    {
      "cell_type": "code",
      "source": [
        "predictions=model.predict(X)\n",
        "predictions"
      ],
      "metadata": {
        "colab": {
          "base_uri": "https://localhost:8080/"
        },
        "id": "DV4tlHLqaGIZ",
        "outputId": "eafec1d3-746c-48c4-d506-99248996be29"
      },
      "execution_count": 41,
      "outputs": [
        {
          "output_type": "execute_result",
          "data": {
            "text/plain": [
              "array([0, 0, 0, 1, 1, 1])"
            ]
          },
          "metadata": {},
          "execution_count": 41
        }
      ]
    },
    {
      "cell_type": "code",
      "source": [
        "plt.scatter(X[:,0][Y==0],X[:,1][Y==0],color='blue',label=\"cats\")\n",
        "plt.scatter(X[:,0][Y==1],X[:,1][Y==1],color='red',label=\"dogs\")\n",
        "\n",
        "bias=model.bias\n",
        "weights=model.weights\n",
        "\n",
        "X_values=np.linspace(15,55,100)\n",
        "Y_values=-(bias+weights[0]*X_values)/weights[1]\n",
        "\n",
        "plt.plot(X_values,Y_values, color='green',label=\"Decision Boundary\")\n",
        "plt.xlabel(\"Height\")\n",
        "plt.ylabel(\"Weight\")\n",
        "plt.legend()\n",
        "plt.grid(True)\n",
        "plt.show()"
      ],
      "metadata": {
        "colab": {
          "base_uri": "https://localhost:8080/",
          "height": 449
        },
        "id": "jqClfZ8Oa14g",
        "outputId": "1e7f6c76-19fb-49af-87ca-af8fc137592b"
      },
      "execution_count": 45,
      "outputs": [
        {
          "output_type": "display_data",
          "data": {
            "text/plain": [
              "<Figure size 640x480 with 1 Axes>"
            ],
            "image/png": "[encoded data removed]"
          },
          "metadata": {}
        }
      ]
    },
    {
      "cell_type": "code",
      "source": [
        "test_data=np.array(\n",
        "    [60,20],\n",
        "    [30,6]\n",
        ")"
      ],
      "metadata": {
        "id": "iURbNhdubxjD"
      },
      "execution_count": null,
      "outputs": []
    }
  ]
}